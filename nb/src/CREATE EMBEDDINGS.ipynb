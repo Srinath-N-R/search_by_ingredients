{
 "cells": [
  {
   "cell_type": "code",
   "execution_count": 1,
   "id": "8a0545d7-649e-4789-aba2-a834bf3f0179",
   "metadata": {
    "scrolled": true
   },
   "outputs": [],
   "source": [
    "from DATASET import SOURCE_A, SOURCE_B, SOURCE_C"
   ]
  },
  {
   "cell_type": "code",
   "execution_count": 2,
   "id": "20720c2a-6234-41fc-a15f-d1b43827c634",
   "metadata": {},
   "outputs": [],
   "source": [
    "VEGAN_NON_VEGAN_INGREDIENTS = SOURCE_A + SOURCE_B + SOURCE_C"
   ]
  },
  {
   "cell_type": "code",
   "execution_count": 3,
   "id": "87ece4ad-b40d-4a86-afbc-d55351a18fa3",
   "metadata": {},
   "outputs": [],
   "source": [
    "import numpy as np\n",
    "from sentence_transformers import SentenceTransformer\n",
    "\n",
    "_EMB = SentenceTransformer(\"all-mpnet-base-v2\")\n",
    "\n",
    "\n",
    "def _e(txt: str) -> np.ndarray:\n",
    "    return _EMB.encode([txt], normalize_embeddings=True)[0]"
   ]
  },
  {
   "cell_type": "code",
   "execution_count": 4,
   "id": "416f5234-da76-4bfa-850e-f64ddb4a308a",
   "metadata": {},
   "outputs": [
    {
     "name": "stderr",
     "output_type": "stream",
     "text": [
      "100%|██████████| 5294/5294 [05:06<00:00, 17.25it/s]\n"
     ]
    }
   ],
   "source": [
    "from tqdm import tqdm\n",
    "\n",
    "v_embs, nv_embs = [], []\n",
    "v_txts, nv_txts = [], []\n",
    "for txt, lbl in tqdm(VEGAN_NON_VEGAN_INGREDIENTS):\n",
    "    prompt = \"VEGAN PRODUCT: \" if lbl else \"ANIMAL PRODUCT: \"\n",
    "    vec = _e(prompt + txt)\n",
    "    (v_embs if lbl else nv_embs).append(vec)\n",
    "    (v_txts if lbl else nv_txts).append(txt)"
   ]
  },
  {
   "cell_type": "code",
   "execution_count": 5,
   "id": "1c28f7be-7e50-48ac-9404-a87cb75d103d",
   "metadata": {},
   "outputs": [],
   "source": [
    "EMB_ALL = np.vstack([v_embs, nv_embs])\n",
    "ALL_INGREDIENTS = np.concat([v_txts, nv_txts])"
   ]
  },
  {
   "cell_type": "code",
   "execution_count": 6,
   "id": "aa8a135f-c8c0-4b94-b99b-c8575a371e69",
   "metadata": {},
   "outputs": [],
   "source": [
    "np.save(\"vegan_dependencies/vegan_embeddings.npy\", EMB_ALL)\n",
    "np.save(\"vegan_dependencies/vegan_ingredients.npy\", np.array(v_txts))\n",
    "np.save(\"vegan_dependencies/non_vegan_ingredients.npy\", np.array(nv_txts))"
   ]
  },
  {
   "cell_type": "code",
   "execution_count": 7,
   "id": "adec319a-0f6f-4568-8788-83d62e553170",
   "metadata": {},
   "outputs": [
    {
     "name": "stdout",
     "output_type": "stream",
     "text": [
      "closest ingredient is: fresh cilantro | score: 0.634\n"
     ]
    }
   ],
   "source": [
    "temp = _e(\"cilantro\")\n",
    "\n",
    "scores = EMB_ALL @ temp\n",
    "\n",
    "best_idx   = int(np.argmax(scores))\n",
    "best_score = float(scores[best_idx])\n",
    "closest = ALL_INGREDIENTS[best_idx]\n",
    "print(f\"closest ingredient is: {closest} | score: {best_score:.3f}\")"
   ]
  },
  {
   "cell_type": "code",
   "execution_count": null,
   "id": "cd35b960-41d0-498f-a9c7-8410773a967f",
   "metadata": {},
   "outputs": [],
   "source": []
  }
 ],
 "metadata": {
  "kernelspec": {
   "display_name": "Python 3 (ipykernel)",
   "language": "python",
   "name": "python3"
  },
  "language_info": {
   "codemirror_mode": {
    "name": "ipython",
    "version": 3
   },
   "file_extension": ".py",
   "mimetype": "text/x-python",
   "name": "python",
   "nbconvert_exporter": "python",
   "pygments_lexer": "ipython3",
   "version": "3.11.6"
  }
 },
 "nbformat": 4,
 "nbformat_minor": 5
}
